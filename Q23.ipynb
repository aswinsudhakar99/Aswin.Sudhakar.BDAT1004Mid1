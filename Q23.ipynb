{
 "cells": [
  {
   "cell_type": "code",
   "execution_count": 5,
   "id": "f80d80f1-1f80-4cf7-bf57-6e79a4d6ec53",
   "metadata": {},
   "outputs": [
    {
     "name": "stdout",
     "output_type": "stream",
     "text": [
      ">>> f(0, 0)\n",
      "\n",
      ">>> f(0, 1)\n",
      "*\n",
      "\n",
      ">>> f(0, 2)\n",
      "*\n",
      "**\n",
      " *\n",
      "\n",
      ">>> f(0, 4)\n",
      "*\n",
      "**\n",
      " *\n",
      "****\n",
      "  *\n",
      "  **\n",
      "   *\n"
     ]
    }
   ],
   "source": [
    "def f(space, count):\n",
    "    if count > 0:\n",
    "        f(space, count // 2)\n",
    "        print(\" \" * space + \"*\" * count)\n",
    "        f(space + count // 2, count // 2)\n",
    "\n",
    "print(\">>> f(0, 0)\")\n",
    "f(0, 0)\n",
    "\n",
    "print(\"\\n>>> f(0, 1)\")\n",
    "f(0, 1)\n",
    "\n",
    "print(\"\\n>>> f(0, 2)\")\n",
    "f(0, 2)\n",
    "\n",
    "print(\"\\n>>> f(0, 4)\")\n",
    "f(0, 4)\n"
   ]
  },
  {
   "cell_type": "code",
   "execution_count": null,
   "id": "ba7eaa9b-b453-4ebe-a6ff-64b4b1a3fad1",
   "metadata": {},
   "outputs": [],
   "source": []
  }
 ],
 "metadata": {
  "kernelspec": {
   "display_name": "Python 3 (ipykernel)",
   "language": "python",
   "name": "python3"
  },
  "language_info": {
   "codemirror_mode": {
    "name": "ipython",
    "version": 3
   },
   "file_extension": ".py",
   "mimetype": "text/x-python",
   "name": "python",
   "nbconvert_exporter": "python",
   "pygments_lexer": "ipython3",
   "version": "3.12.4"
  }
 },
 "nbformat": 4,
 "nbformat_minor": 5
}
