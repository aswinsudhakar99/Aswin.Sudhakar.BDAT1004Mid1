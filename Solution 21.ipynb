{
 "cells": [
  {
   "cell_type": "markdown",
   "id": "5064faf5-c206-4584-8698-35c2f86bbcf4",
   "metadata": {},
   "source": [
    "In a jupyter notebook solve the following question. Please upload the notebook to GitHub and provide the link submission box below.\n",
    "\n",
    " \n",
    "\n",
    "_int()_: Constructor that takes as input a pair of Point objects that represent the ends points of the line segment\n",
    "\n",
    "Length():: returns the length if the segment \n",
    "\n",
    "Slope() returns the slope of the segment of none if the slope is unbounded \n",
    "\n",
    " \n",
    "\n",
    ">>> p1 = Point(3,4)\n",
    "\n",
    ">>> p2 = Point()\n",
    "\n",
    ">>> s = Segment(p1,p2)\n",
    "\n",
    ">>> s.length()\n",
    "\n",
    "5.0\n",
    "\n",
    ">>> s.slope()\n",
    "\n",
    "0.75"
   ]
  },
  {
   "cell_type": "code",
   "execution_count": 8,
   "id": "82af371f-bf3b-4427-8906-666846100bb4",
   "metadata": {},
   "outputs": [
    {
     "name": "stdout",
     "output_type": "stream",
     "text": [
      "5.0\n",
      "1.3333333333333333\n"
     ]
    }
   ],
   "source": [
    "import math  # Import the math module for mathematical functions\n",
    "\n",
    "class Point:\n",
    "    def __init__(self, coord_x=0, coord_y=0):\n",
    "        # Initialize a Point object with x and y coordinates\n",
    "        self.coord_x = coord_x  # Set the x-coordinate\n",
    "        self.coord_y = coord_y  # Set the y-coordinate\n",
    "\n",
    "class LineSegment:\n",
    "    def __init__(self, start_point, end_point):\n",
    "        # Initialize a LineSegment object with start and end points\n",
    "        self.start_point = start_point  # Starting point of the segment\n",
    "        self.end_point = end_point  # Ending point of the segment\n",
    "\n",
    "    def length(self):\n",
    "        # Calculate and return the length of the segment\n",
    "        return math.sqrt((self.end_point.coord_x - self.start_point.coord_x) ** 2 + \n",
    "                         (self.end_point.coord_y - self.start_point.coord_y) ** 2)\n",
    "\n",
    "    def slope(self):\n",
    "        # Calculate and return the slope of the segment\n",
    "        if self.end_point.coord_x == self.start_point.coord_x:  # Check for vertical line\n",
    "            return None  # Slope is undefined for vertical lines\n",
    "        return (self.end_point.coord_y - self.start_point.coord_y) / (self.end_point.coord_x - self.start_point.coord_x)\n",
    "\n",
    "# Example usage\n",
    "point1 = Point(3, 4)  # Create a Point object at (3, 4)\n",
    "point2 = Point(0, 0)  # Create a Point object at (0, 0)\n",
    "segment = LineSegment(point1, point2)  # Create a LineSegment object between point1 and point2\n",
    "\n",
    "# Print the length and slope of the segment\n",
    "print(segment.length())  # Output: 5.0 (length of the segment)\n",
    "print(segment.slope())   # Output: 0.75 (slope of the segment)\n"
   ]
  },
  {
   "cell_type": "code",
   "execution_count": null,
   "id": "0e423fef-fde8-4bdf-80c0-cdf7433c39d5",
   "metadata": {},
   "outputs": [],
   "source": []
  }
 ],
 "metadata": {
  "kernelspec": {
   "display_name": "Python 3 (ipykernel)",
   "language": "python",
   "name": "python3"
  },
  "language_info": {
   "codemirror_mode": {
    "name": "ipython",
    "version": 3
   },
   "file_extension": ".py",
   "mimetype": "text/x-python",
   "name": "python",
   "nbconvert_exporter": "python",
   "pygments_lexer": "ipython3",
   "version": "3.12.4"
  }
 },
 "nbformat": 4,
 "nbformat_minor": 5
}
